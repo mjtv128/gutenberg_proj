{
  "nbformat": 4,
  "nbformat_minor": 0,
  "metadata": {
    "colab": {
      "name": "Untitled0.ipynb",
      "provenance": [],
      "authorship_tag": "ABX9TyNx2Eqc5GprhamSIYRhcXRb",
      "include_colab_link": true
    },
    "kernelspec": {
      "name": "python3",
      "display_name": "Python 3"
    },
    "language_info": {
      "name": "python"
    }
  },
  "cells": [
    {
      "cell_type": "markdown",
      "metadata": {
        "id": "view-in-github",
        "colab_type": "text"
      },
      "source": [
        "<a href=\"https://colab.research.google.com/github/mjtv128/gutenberg_proj/blob/main/EDA.ipynb\" target=\"_parent\"><img src=\"https://colab.research.google.com/assets/colab-badge.svg\" alt=\"Open In Colab\"/></a>"
      ]
    },
    {
      "cell_type": "code",
      "metadata": {
        "colab": {
          "base_uri": "https://localhost:8080/"
        },
        "id": "VfgMxdZR-dPn",
        "outputId": "c060e0c4-3f41-47e7-8487-de07023773c9"
      },
      "source": [
        "!wget https://raw.githubusercontent.com/mjtv128/gutenberg_proj/main/alice_and_wonderland.txt"
      ],
      "execution_count": 1,
      "outputs": [
        {
          "output_type": "stream",
          "name": "stdout",
          "text": [
            "--2021-09-19 16:53:28--  https://raw.githubusercontent.com/mjtv128/gutenberg_proj/main/alice_and_wonderland.txt\n",
            "Resolving raw.githubusercontent.com (raw.githubusercontent.com)... 185.199.111.133, 185.199.109.133, 185.199.108.133, ...\n",
            "Connecting to raw.githubusercontent.com (raw.githubusercontent.com)|185.199.111.133|:443... connected.\n",
            "HTTP request sent, awaiting response... 200 OK\n",
            "Length: 151080 (148K) [text/plain]\n",
            "Saving to: ‘alice_and_wonderland.txt’\n",
            "\n",
            "alice_and_wonderlan 100%[===================>] 147.54K  --.-KB/s    in 0.03s   \n",
            "\n",
            "2021-09-19 16:53:29 (5.25 MB/s) - ‘alice_and_wonderland.txt’ saved [151080/151080]\n",
            "\n"
          ]
        }
      ]
    },
    {
      "cell_type": "code",
      "metadata": {
        "colab": {
          "base_uri": "https://localhost:8080/"
        },
        "id": "oe4rSKBX-gYp",
        "outputId": "ca4eb62e-93ab-4478-d2a9-5c49b9d240fe"
      },
      "source": [
        "!head alice_and_wonderland.txt"
      ],
      "execution_count": 2,
      "outputs": [
        {
          "output_type": "stream",
          "name": "stdout",
          "text": [
            "Alice’s Adventures in Wonderland\n",
            "\n",
            "by Lewis Carroll\n",
            "\n",
            "THE MILLENNIUM FULCRUM EDITION 3.0\n",
            "\n",
            "Contents\n",
            "\n",
            " CHAPTER I.     Down the Rabbit-Hole\n",
            " CHAPTER II.    The Pool of Tears\n"
          ]
        }
      ]
    },
    {
      "cell_type": "code",
      "metadata": {
        "colab": {
          "base_uri": "https://localhost:8080/"
        },
        "id": "AgYbU4GB-jfW",
        "outputId": "eba65676-066e-4d95-e46a-1dfbf15925ec"
      },
      "source": [
        "!tail alice_and_wonderland.txt"
      ],
      "execution_count": 3,
      "outputs": [
        {
          "output_type": "stream",
          "name": "stdout",
          "text": [
            "childhood: and how she would gather about her other little children,\n",
            "and make _their_ eyes bright and eager with many a strange tale,\n",
            "perhaps even with the dream of Wonderland of long ago: and how she\n",
            "would feel with all their simple sorrows, and find a pleasure in all\n",
            "their simple joys, remembering her own child-life, and the happy summer\n",
            "days.\n",
            "\n",
            "THE END \n",
            "\n",
            "\n"
          ]
        }
      ]
    },
    {
      "cell_type": "code",
      "metadata": {
        "id": "6jZ1of52-mkt"
      },
      "source": [
        ""
      ],
      "execution_count": null,
      "outputs": []
    }
  ]
}